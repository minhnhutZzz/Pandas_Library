{
 "cells": [
  {
   "cell_type": "markdown",
   "metadata": {},
   "source": [
    "## Importing pandas\n",
    "\n",
    "### Bắt đầu và kiểm tra thiết lập pandas của bạn\n",
    "\n",
    "Mức độ: *easy* \n",
    "\n",
    "**1.** Import pandas dưới bí danh `pd`."
   ]
  },
  {
   "cell_type": "code",
   "execution_count": 1,
   "metadata": {},
   "outputs": [],
   "source": [
    "import pandas as pd"
   ]
  },
  {
   "cell_type": "markdown",
   "metadata": {},
   "source": [
    "Ba câu tiếp theo khó hơn một chút.\n",
    "\n",
    "\n",
    "**26.** Trong ô bên dưới, bạn có một DataFrame `df` bao gồm 10 cột số dấu phẩy động. Chính xác 5 mục trong mỗi hàng là giá trị NaN.\n",
    "\n",
    "Đối với mỗi hàng của DataFrame, hãy tìm *cột* chứa giá trị NaN *thứ ba*.\n",
    "\n",
    "Bạn nên trả về một Chuỗi nhãn cột: `e, c, d, h, d`"
   ]
  },
  {
   "cell_type": "code",
   "execution_count": 5,
   "metadata": {},
   "outputs": [
    {
     "name": "stdout",
     "output_type": "stream",
     "text": [
      "0    e\n",
      "1    c\n",
      "2    d\n",
      "3    h\n",
      "4    d\n",
      "dtype: object\n"
     ]
    }
   ],
   "source": [
    "import numpy as np\n",
    "nan = np.nan\n",
    "\n",
    "data = [[0.04,  nan,  nan, 0.25,  nan, 0.43, 0.71, 0.51,  nan,  nan],\n",
    "        [ nan,  nan,  nan, 0.04, 0.76,  nan,  nan, 0.67, 0.76, 0.16],\n",
    "        [ nan,  nan, 0.5 ,  nan, 0.31, 0.4 ,  nan,  nan, 0.24, 0.01],\n",
    "        [0.49,  nan,  nan, 0.62, 0.73, 0.26, 0.85,  nan,  nan,  nan],\n",
    "        [ nan,  nan, 0.41,  nan, 0.05,  nan, 0.61,  nan, 0.48, 0.68]]\n",
    "\n",
    "columns = list('abcdefghij')\n",
    "\n",
    "df = pd.DataFrame(data, columns=columns)\n",
    "\n",
    "# viết một giải pháp cho câu hỏi ở đây\n",
    "cot_co_gtNan_thu3=df.isna().cumsum(axis=1).eq(3).idxmax(axis=1)\n",
    "print(cot_co_gtNan_thu3)"
   ]
  },
  {
   "cell_type": "markdown",
   "metadata": {},
   "source": [
    "**27.** A DataFrame has a column of groups 'grps' and and column of integer values 'vals': \n",
    "\n",
    "```python\n",
    "df = pd.DataFrame({'grps': list('aaabbcaabcccbbc'), \n",
    "                   'vals': [12,345,3,1,45,14,4,52,54,23,235,21,57,3,87]})\n",
    "```\n",
    "For each *group*, find the sum of the three greatest values. You should end up with the answer as follows:\n",
    "```\n",
    "grps\n",
    "a    409\n",
    "b    156\n",
    "c    345\n",
    "```"
   ]
  },
  {
   "cell_type": "code",
   "execution_count": 7,
   "metadata": {},
   "outputs": [
    {
     "name": "stdout",
     "output_type": "stream",
     "text": [
      "grps\n",
      "a    409\n",
      "b    156\n",
      "c    345\n",
      "Name: vals, dtype: int64\n"
     ]
    }
   ],
   "source": [
    "df = pd.DataFrame({'grps': list('aaabbcaabcccbbc'), \n",
    "                   'vals': [12,345,3,1,45,14,4,52,54,23,235,21,57,3,87]})\n",
    "\n",
    "# write a solution to the question here\n",
    "kq = df.groupby('grps')['vals'].apply(lambda x: x.nlargest(3).sum())\n",
    "print(kq)"
   ]
  },
  {
   "cell_type": "markdown",
   "metadata": {},
   "source": [
    "**28.** DataFrame `df` được xây dựng bên dưới có hai cột số nguyên 'A' và 'B'. Các giá trị trong 'A' nằm trong khoảng từ 1 đến 100 (bao gồm). \n",
    "\n",
    "Đối với mỗi nhóm 10 số nguyên liên tiếp trong 'A' (tức là `(0, 10]`, `(10, 20]`, ...), hãy tính tổng các giá trị tương ứng trong cột 'B'.\n",
    "\n",
    "Câu trả lời sẽ là một Series như sau:\n",
    "\n",
    "```\n",
    "A\n",
    "(0, 10]      635\n",
    "(10, 20]     360\n",
    "(20, 30]     315\n",
    "(30, 40]     306\n",
    "(40, 50]     750\n",
    "(50, 60]     284\n",
    "(60, 70]     424\n",
    "(70, 80]     526\n",
    "(80, 90]     835\n",
    "(90, 100]    852\n",
    "```"
   ]
  },
  {
   "cell_type": "code",
   "execution_count": 13,
   "metadata": {},
   "outputs": [
    {
     "name": "stdout",
     "output_type": "stream",
     "text": [
      "A\n",
      "(0, 10]      635\n",
      "(10, 20]     360\n",
      "(20, 30]     315\n",
      "(30, 40]     306\n",
      "(40, 50]     750\n",
      "(50, 60]     284\n",
      "(60, 70]     424\n",
      "(70, 80]     526\n",
      "(80, 90]     835\n",
      "(90, 100]    852\n",
      "Name: B, dtype: int32\n"
     ]
    }
   ],
   "source": [
    "import pandas as pd\n",
    "df = pd.DataFrame(np.random.RandomState(8765).randint(1, 101, size=(100, 2)), columns = [\"A\", \"B\"])\n",
    "\n",
    "# viết một giải pháp cho câu hỏi ở đây\n",
    "\n",
    "df['A'] = pd.cut(df['A'], bins=np.arange(0, 101, 10))\n",
    "kq = df.groupby('A',observed=False)['B'].sum()\n",
    "print(kq)"
   ]
  },
  {
   "cell_type": "markdown",
   "metadata": {},
   "source": [
    "## DataFrames: những vấn đề khó hơn \n",
    "\n",
    "### Những điều này có thể đòi hỏi một chút suy nghĩ vượt ra ngoài khuôn khổ...\n",
    "\n",
    "...nhưng tất cả đều có thể giải quyết được chỉ bằng các phương pháp pandas/NumPy thông thường (và do đó tránh sử dụng vòng lặp `for` rõ ràng)..\n",
    "\n",
    "Mức độ: *hard*"
   ]
  },
  {
   "cell_type": "markdown",
   "metadata": {},
   "source": [
    "**29.** Hãy xem xét DataFrame `df` trong đó có một cột số nguyên 'X':\n",
    "```python\n",
    "df = pd.DataFrame({'X': [7, 2, 0, 3, 4, 2, 5, 0, 3, 4]})\n",
    "```\n",
    "Đối với mỗi giá trị, hãy đếm ngược lại sự khác biệt đến số không trước đó (hoặc thời điểm bắt đầu của Series, tùy theo giá trị nào gần hơn). Do đó, các giá trị này phải là\n",
    "\n",
    "```\n",
    "[1, 2, 0, 1, 2, 3, 4, 0, 1, 2]\n",
    "```\n",
    "\n",
    "Tạo cột mới này thành cột 'Y'."
   ]
  },
  {
   "cell_type": "code",
   "execution_count": 17,
   "metadata": {},
   "outputs": [
    {
     "name": "stdout",
     "output_type": "stream",
     "text": [
      "   X  Y\n",
      "0  7  1\n",
      "1  2  2\n",
      "2  0  0\n",
      "3  3  2\n",
      "4  4  3\n",
      "5  2  4\n",
      "6  5  5\n",
      "7  0  0\n",
      "8  3  2\n",
      "9  4  3\n"
     ]
    }
   ],
   "source": [
    "df = pd.DataFrame({'X': [7, 2, 0, 3, 4, 2, 5, 0, 3, 4]})\n",
    "\n",
    "# xac dinh nhom dua tren vi tri so 0\n",
    "group = df['X'].eq(0).cumsum()\n",
    "\n",
    "# dem so lan xuat hien trong moi nhom (so lan khong phai 0)\n",
    "df['Y'] = group.groupby(group).cumcount() + 1\n",
    "\n",
    "# dat lai gia tri cua nhung vi tri co X = 0 ve 0\n",
    "df.loc[df['X'] == 0, 'Y'] = 0\n",
    "\n",
    "print(df)"
   ]
  },
  {
   "cell_type": "markdown",
   "metadata": {},
   "source": [
    "**30.** Hãy xem xét DataFrame được xây dựng bên dưới chứa các hàng và cột dữ liệu số. \n",
    "\n",
    "Tạo danh sách các vị trí chỉ mục hàng-cột của 3 giá trị lớn nhất trong DataFrame này. Trong trường hợp này, câu trả lời sẽ là:\n",
    "```\n",
    "[(5, 7), (6, 4), (2, 5)]\n",
    "```"
   ]
  },
  {
   "cell_type": "code",
   "execution_count": 21,
   "metadata": {},
   "outputs": [
    {
     "name": "stdout",
     "output_type": "stream",
     "text": [
      "[(5, 2), (7, 5), (4, 6)]\n"
     ]
    }
   ],
   "source": [
    "df = pd.DataFrame(np.random.RandomState(30).randint(1, 101, size=(8, 8)))\n",
    "\n",
    "# Tim vt 3 gia tri lon nhat\n",
    "vt = df.unstack().nlargest(3).index.tolist()\n",
    "\n",
    "# chuyen dinh dang cot hang --> hang cot\n",
    "kq = [(row, col) for col, row in vt]\n",
    "\n",
    "print(kq)"
   ]
  },
  {
   "cell_type": "markdown",
   "metadata": {},
   "source": [
    "**31.** Bạn được cung cấp DataFrame bên dưới với một cột ID nhóm, 'grps', và một cột chứa các giá trị số nguyên tương ứng, 'vals'.\n",
    "\n",
    "```python\n",
    "df = pd.DataFrame({\"vals\": np.random.RandomState(31).randint(-30, 30, size=15), \n",
    "                   \"grps\": np.random.RandomState(31).choice([\"A\", \"B\"], 15)})\n",
    "```\n",
    "\n",
    "Tạo một cột mới 'patched_values' chứa các giá trị giống như 'vals' bất kỳ giá trị âm nào trong 'vals' với nhóm mean:\n",
    "\n",
    "```\n",
    "    vals grps  patched_vals\n",
    "0    -12    A          13.6\n",
    "1     -7    B          28.0\n",
    "2    -14    A          13.6\n",
    "3      4    A           4.0\n",
    "4     -7    A          13.6\n",
    "5     28    B          28.0\n",
    "6     -2    A          13.6\n",
    "7     -1    A          13.6\n",
    "8      8    A           8.0\n",
    "9     -2    B          28.0\n",
    "10    28    A          28.0\n",
    "11    12    A          12.0\n",
    "12    16    A          16.0\n",
    "13   -24    A          13.6\n",
    "14   -12    A          13.6\n",
    "```"
   ]
  },
  {
   "cell_type": "code",
   "execution_count": 23,
   "metadata": {},
   "outputs": [
    {
     "name": "stdout",
     "output_type": "stream",
     "text": [
      "    vals grps  patched_vals\n",
      "0    -12    A          13.6\n",
      "1     -7    B          28.0\n",
      "2    -14    A          13.6\n",
      "3      4    A           4.0\n",
      "4     -7    A          13.6\n",
      "5     28    B          28.0\n",
      "6     -2    A          13.6\n",
      "7     -1    A          13.6\n",
      "8      8    A           8.0\n",
      "9     -2    B          28.0\n",
      "10    28    A          28.0\n",
      "11    12    A          12.0\n",
      "12    16    A          16.0\n",
      "13   -24    A          13.6\n",
      "14   -12    A          13.6\n"
     ]
    }
   ],
   "source": [
    "df = pd.DataFrame({\"vals\": np.random.RandomState(31).randint(-30, 30, size=15), \n",
    "                   \"grps\": np.random.RandomState(31).choice([\"A\", \"B\"], 15)})\n",
    "\n",
    "# tinh gt trung binh tung nhom va lay giatri duong\n",
    "mean_vals = df.loc[df['vals'] > 0].groupby('grps')['vals'].mean()\n",
    "\n",
    "# tao 'patched_vals' thay the gia tri am = gia tri trung binh tuong ung\n",
    "df['patched_vals'] = df.apply(lambda x: mean_vals[x['grps']] if x['vals'] < 0 else x['vals'], axis=1)\n",
    "\n",
    "print(df)"
   ]
  },
  {
   "cell_type": "markdown",
   "metadata": {},
   "source": [
    "**32.** Triển khai giá trị trung bình lăn trên các nhóm có kích thước cửa sổ là 3, bỏ qua giá trị NaN. Ví dụ, hãy xem xét DataFrame sau:\n",
    "\n",
    "```python\n",
    ">>> df = pd.DataFrame({'group': list('aabbabbbabab'),\n",
    "                       'value': [1, 2, 3, np.nan, 2, 3, np.nan, 1, 7, 3, np.nan, 8]})\n",
    ">>> df\n",
    "   group  value\n",
    "0      a    1.0\n",
    "1      a    2.0\n",
    "2      b    3.0\n",
    "3      b    NaN\n",
    "4      a    2.0\n",
    "5      b    3.0\n",
    "6      b    NaN\n",
    "7      b    1.0\n",
    "8      a    7.0\n",
    "9      b    3.0\n",
    "10     a    NaN\n",
    "11     b    8.0\n",
    "```\n",
    "Mục tiêu là tính toán Series:\n",
    "\n",
    "```\n",
    "0     1.000000\n",
    "1     1.500000\n",
    "2     3.000000\n",
    "3     3.000000\n",
    "4     1.666667\n",
    "5     3.000000\n",
    "6     3.000000\n",
    "7     2.000000\n",
    "8     3.666667\n",
    "9     2.000000\n",
    "10    4.500000\n",
    "11    4.000000\n",
    "```\n",
    "E.g. cửa sổ đầu tiên có kích thước ba cho nhóm 'b' có các giá trị 3.0, NaN và 3.0 và xuất hiện ở chỉ mục hàng 5. Thay vì là NaN, giá trị trong cột mới ở chỉ mục hàng này phải là 3.0 (chỉ sử dụng hai giá trị không phải NaN để tính giá trị trung bình (3+3)/2)"
   ]
  },
  {
   "cell_type": "code",
   "execution_count": 27,
   "metadata": {},
   "outputs": [
    {
     "name": "stdout",
     "output_type": "stream",
     "text": [
      "   group  value  rolling_mean\n",
      "0      a    1.0      1.000000\n",
      "1      a    2.0      1.500000\n",
      "2      b    3.0      3.000000\n",
      "3      b    NaN      3.000000\n",
      "4      a    2.0      1.666667\n",
      "5      b    3.0      3.000000\n",
      "6      b    NaN      3.000000\n",
      "7      b    1.0      2.000000\n",
      "8      a    7.0      3.666667\n",
      "9      b    3.0      2.000000\n",
      "10     a    NaN      4.500000\n",
      "11     b    8.0      4.000000\n"
     ]
    }
   ],
   "source": [
    "df = pd.DataFrame({'group': list('aabbabbbabab'),\n",
    "                       'value': [1, 2, 3, np.nan, 2, 3, np.nan, 1, 7, 3, np.nan, 8]})\n",
    "# Trien khai gia tri trung binh theo yeu cau de bai\n",
    "df['rolling_mean'] = df.groupby('group')['value'].transform(lambda x: x.rolling(3, min_periods=1).mean())\n",
    "\n",
    "print(df)\n"
   ]
  },
  {
   "cell_type": "markdown",
   "metadata": {},
   "source": [
    "## Series and DatetimeIndex\n",
    "\n",
    "### Bài tập tạo và thao tác Series với dữ liệu ngày giờ\n",
    "\n",
    "Mức độ: *easy/medium*\n",
    "\n",
    "pandas rất tuyệt vời để làm việc với ngày tháng và thời gian. Những câu đố này khám phá một số chức năng này.\n"
   ]
  },
  {
   "cell_type": "markdown",
   "metadata": {},
   "source": [
    "**33.** Tạo một DatetimeIndex chứa mỗi ngày làm việc của năm 2015 và sử dụng nó để lập chỉ mục cho một Series số ngẫu nhiên. Chúng ta hãy gọi Series này là `s`."
   ]
  },
  {
   "cell_type": "code",
   "execution_count": 49,
   "metadata": {},
   "outputs": [
    {
     "name": "stdout",
     "output_type": "stream",
     "text": [
      "2015-01-01   -0.861246\n",
      "2015-01-02   -0.558649\n",
      "2015-01-05   -0.283981\n",
      "2015-01-06   -0.116234\n",
      "2015-01-07    0.757514\n",
      "                ...   \n",
      "2015-12-25    0.563003\n",
      "2015-12-28    1.838376\n",
      "2015-12-29   -0.000785\n",
      "2015-12-30   -0.318945\n",
      "2015-12-31    0.079183\n",
      "Freq: B, Length: 261, dtype: float64\n"
     ]
    }
   ],
   "source": [
    "# tao DatetimeIndex \n",
    "date_range = pd.date_range(start='2015-01-01', end='2015-12-31', freq='B')\n",
    "\n",
    "# tao Series\n",
    "s = pd.Series(np.random.randn(len(date_range)), index=date_range)\n",
    "\n",
    "print(s)"
   ]
  },
  {
   "cell_type": "markdown",
   "metadata": {},
   "source": [
    "**34.** Tìm tổng các giá trị trong `s` của mỗi thứ Wednesday."
   ]
  },
  {
   "cell_type": "code",
   "execution_count": 53,
   "metadata": {},
   "outputs": [
    {
     "name": "stdout",
     "output_type": "stream",
     "text": [
      "tong cac gia tri trong s cua moi thu Wednesday: 3.7568339314199766\n"
     ]
    }
   ],
   "source": [
    "tong_wednesday = s[s.index.weekday == 2].sum()\n",
    "print(\"tong cac gia tri trong s cua moi thu Wednesday:\", tong_wednesday)"
   ]
  },
  {
   "cell_type": "markdown",
   "metadata": {},
   "source": [
    "**35.** Đối với mỗi tháng dương lịch trong `s`, hãy tìm giá trị trung bình."
   ]
  },
  {
   "cell_type": "code",
   "execution_count": 55,
   "metadata": {},
   "outputs": [
    {
     "name": "stdout",
     "output_type": "stream",
     "text": [
      "1     0.093423\n",
      "2     0.262837\n",
      "3     0.297152\n",
      "4     0.129471\n",
      "5    -0.088929\n",
      "6     0.065480\n",
      "7     0.047439\n",
      "8    -0.344878\n",
      "9    -0.035646\n",
      "10   -0.043296\n",
      "11   -0.218850\n",
      "12    0.042887\n",
      "dtype: float64\n"
     ]
    }
   ],
   "source": [
    "tb_thang = s.groupby(s.index.month).mean()\n",
    "print(tb_thang)"
   ]
  },
  {
   "cell_type": "markdown",
   "metadata": {},
   "source": [
    "**36.**Đối với mỗi nhóm bốn tháng liên tiếp trong lịch `s`, hãy tìm ngày có giá trị cao nhất."
   ]
  },
  {
   "cell_type": "code",
   "execution_count": 66,
   "metadata": {},
   "outputs": [
    {
     "name": "stdout",
     "output_type": "stream",
     "text": [
      "2015-01-31    2.474552\n",
      "2015-05-31    2.116540\n",
      "2015-09-30    2.559548\n",
      "2016-01-31    1.891555\n",
      "Freq: 4ME, dtype: float64\n"
     ]
    }
   ],
   "source": [
    "max_values = s.resample(\"4ME\").apply(lambda x: x.loc[x.idxmax()])\n",
    "print(max_values)"
   ]
  },
  {
   "cell_type": "markdown",
   "metadata": {},
   "source": [
    "**37.** Tạo DateTimeIndex bao gồm thứ Năm tuần thứ ba của mỗi tháng trong các năm 2015 và 2016."
   ]
  },
  {
   "cell_type": "code",
   "execution_count": 68,
   "metadata": {},
   "outputs": [
    {
     "name": "stdout",
     "output_type": "stream",
     "text": [
      "DatetimeIndex(['2015-01-15', '2015-02-19', '2015-03-19', '2015-04-16',\n",
      "               '2015-05-21', '2015-06-18', '2015-07-16', '2015-08-20',\n",
      "               '2015-09-17', '2015-10-15', '2015-11-19', '2015-12-17',\n",
      "               '2016-01-21', '2016-02-18', '2016-03-17', '2016-04-21',\n",
      "               '2016-05-19', '2016-06-16', '2016-07-21', '2016-08-18',\n",
      "               '2016-09-15', '2016-10-20', '2016-11-17', '2016-12-15'],\n",
      "              dtype='datetime64[ns]', freq=None)\n"
     ]
    }
   ],
   "source": [
    "import pandas as pd\n",
    "from dateutil.relativedelta import relativedelta, TH\n",
    "\n",
    "ngay_thu_nam = []\n",
    "for year in [2015, 2016]:\n",
    "    for month in range(1, 13):\n",
    "        # lay thu 5 tuan thu 3 cua thang\n",
    "        ngay = pd.Timestamp(year, month, 1) + relativedelta(weekday=TH(3))\n",
    "        ngay_thu_nam.append(ngay)\n",
    "\n",
    "# tao DatetimeIndex\n",
    "dt_index = pd.DatetimeIndex(ngay_thu_nam)\n",
    "\n",
    "print(dt_index)\n"
   ]
  },
  {
   "cell_type": "markdown",
   "metadata": {},
   "source": [
    "## Làm sạch dữ liệu\n",
    "\n",
    "### Làm cho DataFrame dễ làm việc hơn\n",
    "\n",
    "Mức độ: *easy/medium*\n",
    "\n",
    "Điều này xảy ra thường xuyên: ai đó cung cấp cho bạn dữ liệu chứa chuỗi string không đúng định dạng, Python, danh sách và dữ liệu bị thiếu. Làm thế nào để bạn sắp xếp chúng để có thể tiếp tục phân tích?\n",
    "\n",
    "Hãy coi cái được cung cấp này như DataFrame để sử dụng trong các câu sau:\n",
    "\n",
    "```python\n",
    "df = pd.DataFrame({'From_To': ['LoNDon_paris', 'MAdrid_miLAN', 'londON_StockhOlm', \n",
    "                               'Budapest_PaRis', 'Brussels_londOn'],\n",
    "              'FlightNumber': [10045, np.nan, 10065, np.nan, 10085],\n",
    "              'RecentDelays': [[23, 47], [], [24, 43, 87], [13], [67, 32]],\n",
    "                   'Airline': ['KLM(!)', '<Air France> (12)', '(British Airways. )', \n",
    "                               '12. Air France', '\"Swiss Air\"']})\n",
    "```\n",
    "Được định dạng, nó trông như thế này:\n",
    "\n",
    "```\n",
    "            From_To  FlightNumber  RecentDelays              Airline\n",
    "0      LoNDon_paris       10045.0      [23, 47]               KLM(!)\n",
    "1      MAdrid_miLAN           NaN            []    <Air France> (12)\n",
    "2  londON_StockhOlm       10065.0  [24, 43, 87]  (British Airways. )\n",
    "3    Budapest_PaRis           NaN          [13]       12. Air France\n",
    "4   Brussels_londOn       10085.0      [67, 32]          \"Swiss Air\"\n",
    "```\n",
    "\n",
    "\n",
    "(Đây là một số dữ liệu chuyến bay do tác giả bịa ra; nó không có mục đích chính xác theo bất kỳ cách nào.)\n"
   ]
  },
  {
   "cell_type": "markdown",
   "metadata": {},
   "source": [
    "**38.** Một số giá trị trong cột **FlightNumber** bị thiếu (chúng là `NaN`). Những con số này có nghĩa là tăng thêm 10 với mỗi hàng nên cần phải đặt 10055 và 10075 vào vị trí. Sửa đổi `df` để điền vào những con số bị thiếu này và biến cột thành một cột số nguyên (thay vì một cột số thực)."
   ]
  },
  {
   "cell_type": "code",
   "execution_count": 78,
   "metadata": {},
   "outputs": [
    {
     "name": "stdout",
     "output_type": "stream",
     "text": [
      "            From_To  FlightNumber  RecentDelays              Airline\n",
      "0      LoNDon_paris         10045      [23, 47]               KLM(!)\n",
      "1      MAdrid_miLAN         10055            []    <Air France> (12)\n",
      "2  londON_StockhOlm         10065  [24, 43, 87]  (British Airways. )\n",
      "3    Budapest_PaRis         10075          [13]       12. Air France\n",
      "4   Brussels_londOn         10085      [67, 32]          \"Swiss Air\"\n"
     ]
    }
   ],
   "source": [
    "df = pd.DataFrame({\n",
    "    'From_To': ['LoNDon_paris', 'MAdrid_miLAN', 'londON_StockhOlm', \n",
    "                'Budapest_PaRis', 'Brussels_londOn'],\n",
    "    'FlightNumber': [10045, np.nan, 10065, np.nan, 10085],\n",
    "    'RecentDelays': [[23, 47], [], [24, 43, 87], [13], [67, 32]],\n",
    "    'Airline': ['KLM(!)', '<Air France> (12)', '(British Airways. )', \n",
    "                '12. Air France', '\"Swiss Air\"']\n",
    "})\n",
    "\n",
    "# dien gia tri bi thieu\n",
    "df['FlightNumber'] = df['FlightNumber'].interpolate().astype(int)\n",
    "print(df)"
   ]
  },
  {
   "cell_type": "markdown",
   "metadata": {},
   "source": [
    "**39.** Cột **From\\_To** sẽ tốt hơn nếu là hai cột riêng biệt! Tách từng chuỗi trên dấu gạch dưới `_` để tạo một DataFrame tạm thời mới có tên là 'temp' với các giá trị chính xác. Gán tên cột chính xác 'From' và 'To' cho DataFrame tạm thời này."
   ]
  },
  {
   "cell_type": "code",
   "execution_count": 80,
   "metadata": {},
   "outputs": [
    {
     "name": "stdout",
     "output_type": "stream",
     "text": [
      "       From         To\n",
      "0    LoNDon      paris\n",
      "1    MAdrid      miLAN\n",
      "2    londON  StockhOlm\n",
      "3  Budapest      PaRis\n",
      "4  Brussels     londOn\n"
     ]
    }
   ],
   "source": [
    "# tach cot From_To\n",
    "temp = df['From_To'].str.split('_', expand=True)\n",
    "\n",
    "# dat ten cot\n",
    "temp.columns = ['From', 'To']\n",
    "print(temp)\n"
   ]
  },
  {
   "cell_type": "markdown",
   "metadata": {},
   "source": [
    "**40.** Lưu ý cách viết hoa tên thành phố được trộn lẫn trong DataFrame tạm thời này 'temp'. Chuẩn hóa các chuỗi sao cho chỉ có chữ cái đầu tiên là chữ hoa (ví dụ: \"londON\" sẽ trở thành \"London\".)"
   ]
  },
  {
   "cell_type": "code",
   "execution_count": 82,
   "metadata": {},
   "outputs": [
    {
     "name": "stdout",
     "output_type": "stream",
     "text": [
      "       From         To\n",
      "0    London      Paris\n",
      "1    Madrid      Milan\n",
      "2    London  Stockholm\n",
      "3  Budapest      Paris\n",
      "4  Brussels     London\n"
     ]
    }
   ],
   "source": [
    "# chuan hoa\n",
    "temp['From'] = temp['From'].str.capitalize()\n",
    "temp['To'] = temp['To'].str.capitalize()\n",
    "print(temp)"
   ]
  },
  {
   "cell_type": "markdown",
   "metadata": {},
   "source": [
    "**41.** Xóa cột **From_To** khỏi `df` và đính kèm DataFrame tạm thời 'temp' từ các câu hỏi trước đó."
   ]
  },
  {
   "cell_type": "code",
   "execution_count": 84,
   "metadata": {},
   "outputs": [
    {
     "name": "stdout",
     "output_type": "stream",
     "text": [
      "       From         To  FlightNumber  RecentDelays              Airline\n",
      "0    London      Paris         10045      [23, 47]               KLM(!)\n",
      "1    Madrid      Milan         10055            []    <Air France> (12)\n",
      "2    London  Stockholm         10065  [24, 43, 87]  (British Airways. )\n",
      "3  Budapest      Paris         10075          [13]       12. Air France\n",
      "4  Brussels     London         10085      [67, 32]          \"Swiss Air\"\n"
     ]
    }
   ],
   "source": [
    "# xoa cot From_To\n",
    "df.drop(columns=['From_To'], inplace=True)\n",
    "\n",
    "# dinh kem DataFrame 'temp' vào df\n",
    "df = pd.concat([temp, df], axis=1)\n",
    "print(df)"
   ]
  },
  {
   "cell_type": "markdown",
   "metadata": {},
   "source": [
    "**42**. Trong cột **Airline**, bạn có thể thấy một số dấu câu và ký hiệu bổ sung xuất hiện xung quanh tên hãng hàng không. Thực hiện chính xác hóa tên hãng hàng không. Ví dụ: `'(British Airways. )'` phải trở thành `'British Airways'`."
   ]
  },
  {
   "cell_type": "code",
   "execution_count": 86,
   "metadata": {},
   "outputs": [
    {
     "name": "stdout",
     "output_type": "stream",
     "text": [
      "       From         To  FlightNumber  RecentDelays          Airline\n",
      "0    London      Paris         10045      [23, 47]              KLM\n",
      "1    Madrid      Milan         10055            []       Air France\n",
      "2    London  Stockholm         10065  [24, 43, 87]  British Airways\n",
      "3  Budapest      Paris         10075          [13]       Air France\n",
      "4  Brussels     London         10085      [67, 32]        Swiss Air\n"
     ]
    }
   ],
   "source": [
    "import re\n",
    "\n",
    "# chuan hoa \n",
    "df['Airline'] = df['Airline'].str.replace(r'[^a-zA-Z\\s]', '', regex=True).str.strip()\n",
    "print(df)"
   ]
  },
  {
   "cell_type": "markdown",
   "metadata": {},
   "source": [
    "**43**. Trong cột RecentDelays, các giá trị đã được nhập vào DataFrame dưới dạng danh sách. Chúng tôi muốn mỗi giá trị đầu tiên trong cột riêng của nó, mỗi giá trị thứ hai trong cột riêng của nó, v.v. Nếu không có giá trị thứ N, giá trị sẽ là NaN.\n",
    "\n",
    "Mở rộng Series của các danh sách thành một DataFrame có tên là `delays`, đổi tên các cột `delay_1`, `delay_2`, v.v. và thay thế cột RecentDelays không mong muốn trong `df` bằng `delays`."
   ]
  },
  {
   "cell_type": "code",
   "execution_count": 88,
   "metadata": {},
   "outputs": [
    {
     "name": "stdout",
     "output_type": "stream",
     "text": [
      "       From         To  FlightNumber          Airline  delay_1  delay_2  \\\n",
      "0    London      Paris         10045              KLM     23.0     47.0   \n",
      "1    Madrid      Milan         10055       Air France      NaN      NaN   \n",
      "2    London  Stockholm         10065  British Airways     24.0     43.0   \n",
      "3  Budapest      Paris         10075       Air France     13.0      NaN   \n",
      "4  Brussels     London         10085        Swiss Air     67.0     32.0   \n",
      "\n",
      "   delay_3  \n",
      "0      NaN  \n",
      "1      NaN  \n",
      "2     87.0  \n",
      "3      NaN  \n",
      "4      NaN  \n"
     ]
    }
   ],
   "source": [
    "# mo rong danh sach trong cot 'RecentDelays' thanh DataFrame\n",
    "delays = pd.DataFrame(df['RecentDelays'].tolist())\n",
    "\n",
    "# doi ten cot\n",
    "delays.columns = [f'delay_{i+1}' for i in range(delays.shape[1])]\n",
    "\n",
    "# xoa cot 'RecentDelays' khỏi df\n",
    "df.drop(columns=['RecentDelays'], inplace=True)\n",
    "\n",
    "# dinh kem 'delays' vào df\n",
    "df = pd.concat([df, delays], axis=1)\n",
    "print(df)"
   ]
  },
  {
   "cell_type": "markdown",
   "metadata": {},
   "source": [
    "Bây giờ DataFrame sẽ trông đẹp hơn nhiều.\n",
    "```\n",
    "   FlightNumber          Airline      From         To  delay_1  delay_2  delay_3\n",
    "0         10045              KLM    London      Paris     23.0     47.0      NaN\n",
    "1         10055       Air France    Madrid      Milan      NaN      NaN      NaN\n",
    "2         10065  British Airways    London  Stockholm     24.0     43.0     87.0\n",
    "3         10075       Air France  Budapest      Paris     13.0      NaN      NaN\n",
    "4         10085        Swiss Air  Brussels     London     67.0     32.0      NaN\n",
    "```"
   ]
  },
  {
   "cell_type": "markdown",
   "metadata": {
    "collapsed": true,
    "jupyter": {
     "outputs_hidden": true
    }
   },
   "source": [
    "## Sử dụng MultiIndexes\n",
    "\n",
    "### Vượt ra ngoài DataFrames phẳng với các cấp chỉ mục bổ sung\n",
    "\n",
    "Mức độ: *medium*\n",
    "\n",
    "Các bài tập trước đây đã cho chúng ta thấy việc phân tích dữ liệu từ DataFrames được trang bị một mức chỉ mục duy nhất. Tuy nhiên, pandas cũng cung cấp cho bạn khả năng lập chỉ mục dữ liệu của mình bằng cách sử dụng *multiple* mức. Điều này rất giống với việc thêm các chiều mới vào một Series hoặc một DataFrame. Ví dụ, một Series là 1D, nhưng bằng cách sử dụng MultiIndex với 2 mức, chúng ta có được chức năng tương tự như một DataFrame 2D.\n",
    "\n",
    "Bộ câu hỏi dưới đây khám phá cách bạn có thể sử dụng nhiều cấp chỉ mục để nâng cao khả năng phân tích dữ liệu.\n",
    "\n",
    "Để khởi động, chúng ta sẽ xem xét một Series có hai mức chỉ số."
   ]
  },
  {
   "cell_type": "markdown",
   "metadata": {},
   "source": [
    "**44**. Với các danh sách `letters = ['A', 'B', 'C']` và `numbers = list(range(10))`, hãy xây dựng một đối tượng MultiIndex từ tích của hai danh sách. Sử dụng nó để lập chỉ mục cho một Series các số ngẫu nhiên. Gọi Series này là `s`."
   ]
  },
  {
   "cell_type": "code",
   "execution_count": 90,
   "metadata": {},
   "outputs": [
    {
     "name": "stdout",
     "output_type": "stream",
     "text": [
      "Letter  Number\n",
      "A       0         0.174209\n",
      "        1         0.694930\n",
      "        2        -0.556947\n",
      "        3        -1.086084\n",
      "        4        -0.300593\n",
      "        5         0.112675\n",
      "        6        -1.216048\n",
      "        7        -1.994797\n",
      "        8        -0.740337\n",
      "        9         0.286442\n",
      "B       0        -0.746911\n",
      "        1        -0.419774\n",
      "        2         0.344026\n",
      "        3         0.476942\n",
      "        4        -1.480500\n",
      "        5        -0.917295\n",
      "        6         0.114950\n",
      "        7        -1.160556\n",
      "        8        -0.731702\n",
      "        9        -0.189900\n",
      "C       0        -0.918069\n",
      "        1         0.398070\n",
      "        2         1.070239\n",
      "        3        -0.507455\n",
      "        4         0.022824\n",
      "        5         0.115458\n",
      "        6         1.114973\n",
      "        7        -0.601135\n",
      "        8         1.024532\n",
      "        9         0.713821\n",
      "dtype: float64\n"
     ]
    }
   ],
   "source": [
    "letters = ['A', 'B', 'C']\n",
    "numbers = list(range(10))\n",
    "\n",
    "# tao MultiIndex \n",
    "multi_index = pd.MultiIndex.from_product([letters, numbers], names=['Letter', 'Number'])\n",
    "\n",
    "# tao Series su dung MultiIndex lam chi muc\n",
    "s = pd.Series(np.random.randn(len(multi_index)), index=multi_index)\n",
    "print(s)"
   ]
  },
  {
   "cell_type": "markdown",
   "metadata": {},
   "source": [
    "**45.** Kiểm tra xem chỉ mục của `s` có được sắp xếp theo thứ tự từ điển hay không (đây là thuộc tính cần thiết để lập chỉ mục hoạt động chính xác với MultiIndex)."
   ]
  },
  {
   "cell_type": "code",
   "execution_count": 100,
   "metadata": {},
   "outputs": [
    {
     "name": "stdout",
     "output_type": "stream",
     "text": [
      "True\n"
     ]
    }
   ],
   "source": [
    "check = s.index.is_monotonic_increasing\n",
    "print(check)"
   ]
  },
  {
   "cell_type": "markdown",
   "metadata": {},
   "source": [
    "**46**. Chọn các nhãn `1`, `3` và `6` từ cấp độ thứ hai của MultiIndexed Series."
   ]
  },
  {
   "cell_type": "code",
   "execution_count": 136,
   "metadata": {},
   "outputs": [
    {
     "name": "stdout",
     "output_type": "stream",
     "text": [
      "Letter  Number\n",
      "A       1         0.694930\n",
      "        3        -1.086084\n",
      "        6        -1.216048\n",
      "B       1        -0.419774\n",
      "        3         0.476942\n",
      "        6         0.114950\n",
      "C       1         0.398070\n",
      "        3        -0.507455\n",
      "        6         1.114973\n",
      "dtype: float64\n"
     ]
    }
   ],
   "source": [
    "selected_s = s.loc[pd.IndexSlice[:, [1, 3, 6]]]\n",
    "print(selected_s)"
   ]
  },
  {
   "cell_type": "markdown",
   "metadata": {},
   "source": [
    "**47**. Cắt các Series `s`; cắt đến nhãn 'B' cho cấp độ đầu tiên và từ nhãn 5 trở đi cho cấp độ thứ hai."
   ]
  },
  {
   "cell_type": "code",
   "execution_count": 138,
   "metadata": {},
   "outputs": [
    {
     "name": "stdout",
     "output_type": "stream",
     "text": [
      "Letter  Number\n",
      "A       5         0.112675\n",
      "        6        -1.216048\n",
      "        7        -1.994797\n",
      "        8        -0.740337\n",
      "        9         0.286442\n",
      "B       5        -0.917295\n",
      "        6         0.114950\n",
      "        7        -1.160556\n",
      "        8        -0.731702\n",
      "        9        -0.189900\n",
      "dtype: float64\n"
     ]
    }
   ],
   "source": [
    "sliced_s = s.loc[pd.IndexSlice[\"A\":\"B\", 5:]]\n",
    "print(sliced_s)"
   ]
  },
  {
   "cell_type": "markdown",
   "metadata": {},
   "source": [
    "**48**. Tính tổng các giá trị trong `s` cho mỗi nhãn ở cấp độ đầu tiên (bạn sẽ có Series cung cấp tổng cho các nhãn A, B và C)."
   ]
  },
  {
   "cell_type": "code",
   "execution_count": 142,
   "metadata": {},
   "outputs": [
    {
     "name": "stdout",
     "output_type": "stream",
     "text": [
      "Letter\n",
      "A   -4.626552\n",
      "B   -4.710721\n",
      "C    2.433257\n",
      "dtype: float64\n"
     ]
    }
   ],
   "source": [
    "tong_theo_cap_dau = s.groupby(level=0).sum()\n",
    "print(tong_theo_cap_dau)"
   ]
  },
  {
   "cell_type": "markdown",
   "metadata": {},
   "source": [
    "**49**. Giả sử `sum()` (và các phương pháp khác) không chấp nhận đối số từ khóa `level`. Bạn có thể thực hiện tương đương với `s.sum(level=1)` bằng cách nào khác?"
   ]
  },
  {
   "cell_type": "code",
   "execution_count": 144,
   "metadata": {},
   "outputs": [
    {
     "name": "stdout",
     "output_type": "stream",
     "text": [
      "Number\n",
      "0   -1.490771\n",
      "1    0.673226\n",
      "2    0.857318\n",
      "3   -1.116597\n",
      "4   -1.758269\n",
      "5   -0.689162\n",
      "6    0.013874\n",
      "7   -3.756489\n",
      "8   -0.447508\n",
      "9    0.810362\n",
      "dtype: float64\n"
     ]
    }
   ],
   "source": [
    "# chuyen doi Series MultiIndex thành DataFrame\n",
    "df = s.unstack()\n",
    "\n",
    "# tinh tong theo cot\n",
    "tong_theo_cap_2 = df.sum(axis=0)\n",
    "print(tong_theo_cap_2)"
   ]
  },
  {
   "cell_type": "markdown",
   "metadata": {},
   "source": [
    "**50**. Đổi các cấp độ của MultiIndex để chúng ta có một chỉ mục có dạng (chữ cái, số). Series mới này có được sắp xếp theo lexorp đúng không? Nếu không, hãy sắp xếp nó."
   ]
  },
  {
   "cell_type": "code",
   "execution_count": 150,
   "metadata": {},
   "outputs": [
    {
     "name": "stdout",
     "output_type": "stream",
     "text": [
      "Number  Letter\n",
      "0       A         0.174209\n",
      "        B        -0.746911\n",
      "        C        -0.918069\n",
      "1       A         0.694930\n",
      "        B        -0.419774\n",
      "        C         0.398070\n",
      "2       A        -0.556947\n",
      "        B         0.344026\n",
      "        C         1.070239\n",
      "3       A        -1.086084\n",
      "        B         0.476942\n",
      "        C        -0.507455\n",
      "4       A        -0.300593\n",
      "        B        -1.480500\n",
      "        C         0.022824\n",
      "5       A         0.112675\n",
      "        B        -0.917295\n",
      "        C         0.115458\n",
      "6       A        -1.216048\n",
      "        B         0.114950\n",
      "        C         1.114973\n",
      "7       A        -1.994797\n",
      "        B        -1.160556\n",
      "        C        -0.601135\n",
      "8       A        -0.740337\n",
      "        B        -0.731702\n",
      "        C         1.024532\n",
      "9       A         0.286442\n",
      "        B        -0.189900\n",
      "        C         0.713821\n",
      "dtype: float64\n"
     ]
    }
   ],
   "source": [
    "# doi cap do\n",
    "s_swapped = s.swaplevel()\n",
    "\n",
    "# kiem tra Series co sap xeo theo tu dien khong\n",
    "if not s_swapped.index.equals(s_swapped.index.sort_values()):\n",
    "    s_swapped = s_swapped.sort_index() # thuc hien sap xep neu chua\n",
    "\n",
    "print(s_swapped)"
   ]
  }
 ],
 "metadata": {
  "kernelspec": {
   "display_name": "Python 3 (ipykernel)",
   "language": "python",
   "name": "python3"
  },
  "language_info": {
   "codemirror_mode": {
    "name": "ipython",
    "version": 3
   },
   "file_extension": ".py",
   "mimetype": "text/x-python",
   "name": "python",
   "nbconvert_exporter": "python",
   "pygments_lexer": "ipython3",
   "version": "3.12.4"
  }
 },
 "nbformat": 4,
 "nbformat_minor": 4
}
