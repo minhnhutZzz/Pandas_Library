{
 "cells": [
  {
   "cell_type": "markdown",
   "metadata": {},
   "source": [
    "## Importing pandas\n",
    "\n",
    "### Bắt đầu và kiểm tra thiết lập pandas của bạn\n",
    "\n",
    "Mức độ: *easy* \n",
    "\n",
    "**1.** Import pandas dưới bí danh `pd`."
   ]
  },
  {
   "cell_type": "code",
   "execution_count": 3,
   "metadata": {},
   "outputs": [],
   "source": [
    "import pandas as pd"
   ]
  },
  {
   "cell_type": "markdown",
   "metadata": {},
   "source": [
    "**2.** In phiên bản pandas đã được nhập."
   ]
  },
  {
   "cell_type": "code",
   "execution_count": 7,
   "metadata": {},
   "outputs": [
    {
     "name": "stdout",
     "output_type": "stream",
     "text": [
      "2.2.2\n"
     ]
    }
   ],
   "source": [
    "print(pd.__version__)"
   ]
  },
  {
   "cell_type": "markdown",
   "metadata": {},
   "source": [
    "**3.** In ra tất cả thông tin *phiên bản* của các thư viện mà thư viện pandas yêu cầu."
   ]
  },
  {
   "cell_type": "code",
   "execution_count": 9,
   "metadata": {},
   "outputs": [
    {
     "name": "stdout",
     "output_type": "stream",
     "text": [
      "\n",
      "INSTALLED VERSIONS\n",
      "------------------\n",
      "commit                : d9cdd2ee5a58015ef6f4d15c7226110c9aab8140\n",
      "python                : 3.12.4.final.0\n",
      "python-bits           : 64\n",
      "OS                    : Windows\n",
      "OS-release            : 11\n",
      "Version               : 10.0.22631\n",
      "machine               : AMD64\n",
      "processor             : AMD64 Family 25 Model 68 Stepping 1, AuthenticAMD\n",
      "byteorder             : little\n",
      "LC_ALL                : None\n",
      "LANG                  : None\n",
      "LOCALE                : English_United States.1252\n",
      "\n",
      "pandas                : 2.2.2\n",
      "numpy                 : 1.26.4\n",
      "pytz                  : 2024.1\n",
      "dateutil              : 2.9.0.post0\n",
      "setuptools            : 69.5.1\n",
      "pip                   : 24.0\n",
      "Cython                : None\n",
      "pytest                : 7.4.4\n",
      "hypothesis            : None\n",
      "sphinx                : 7.3.7\n",
      "blosc                 : None\n",
      "feather               : None\n",
      "xlsxwriter            : None\n",
      "lxml.etree            : 5.2.1\n",
      "html5lib              : None\n",
      "pymysql               : None\n",
      "psycopg2              : None\n",
      "jinja2                : 3.1.4\n",
      "IPython               : 8.25.0\n",
      "pandas_datareader     : None\n",
      "adbc-driver-postgresql: None\n",
      "adbc-driver-sqlite    : None\n",
      "bs4                   : 4.12.3\n",
      "bottleneck            : 1.3.7\n",
      "dataframe-api-compat  : None\n",
      "fastparquet           : None\n",
      "fsspec                : 2024.3.1\n",
      "gcsfs                 : None\n",
      "matplotlib            : 3.8.4\n",
      "numba                 : 0.59.1\n",
      "numexpr               : 2.8.7\n",
      "odfpy                 : None\n",
      "openpyxl              : 3.1.2\n",
      "pandas_gbq            : None\n",
      "pyarrow               : 14.0.2\n",
      "pyreadstat            : None\n",
      "python-calamine       : None\n",
      "pyxlsb                : None\n",
      "s3fs                  : 2024.3.1\n",
      "scipy                 : 1.13.1\n",
      "sqlalchemy            : 2.0.30\n",
      "tables                : 3.9.2\n",
      "tabulate              : 0.9.0\n",
      "xarray                : 2023.6.0\n",
      "xlrd                  : None\n",
      "zstandard             : 0.22.0\n",
      "tzdata                : 2023.3\n",
      "qtpy                  : 2.4.1\n",
      "pyqt5                 : None\n",
      "None\n"
     ]
    }
   ],
   "source": [
    "print(pd.show_versions())"
   ]
  },
  {
   "cell_type": "markdown",
   "metadata": {},
   "source": [
    "## DataFrame\n",
    "\n",
    "### Một số thói quen cơ bản để lựa chọn, sắp xếp, thêm và tổng hợp dữ liệu trong DataFrames\n",
    "\n",
    "Mức độ khó: *easy*\n",
    "\n",
    "Chú ý: nhớ import numpy sử dụng:\n",
    "```python\n",
    "import numpy as np\n",
    "```\n",
    "\n",
    "Hãy xem xét Dictionary Python `data` và list Python `labels` sau:\n",
    "\n",
    "``` python\n",
    "data = {'animal': ['snake', 'cat', 'snake', 'dog', 'snake', 'cat', 'snake', 'cat', 'dog', 'cat'],\n",
    "        'age': [3, 3.5, 0.5, np.nan, 6, 2.5, 4.5, np.nan, 4, 2],\n",
    "        'visits': [1, 3, 2, 3, 2, 3, 1, 1, 2, 1],\n",
    "        'priority': ['yes', 'yes', 'no', 'yes', 'no', 'no', 'no', 'yes', 'no', 'no']}\n",
    "\n",
    "labels = ['a', 'b', 'c', 'd', 'e', 'f', 'g', 'h', 'i', 'j']\n",
    "```\n",
    "(Đây chỉ là một số dữ liệu vô nghĩa mà tác giả tạo ra với chủ đề về động vật và những chuyến đi khám bác sĩ thú y.)\n",
    "\n",
    "**4.** Tạo một DataFrame `df` từ từ điển `data` có chỉ mục `labels`."
   ]
  },
  {
   "cell_type": "code",
   "execution_count": 7,
   "metadata": {},
   "outputs": [],
   "source": [
    "import numpy as np\n",
    "\n",
    "data = {'animal': ['cat', 'cat', 'snake', 'dog', 'dog', 'cat', 'snake', 'cat', 'dog', 'dog'],\n",
    "        'age': [2.5, 3, 0.5, np.nan, 5, 2, 4.5, np.nan, 7, 3],\n",
    "        'visits': [1, 3, 2, 3, 2, 3, 1, 1, 2, 1],\n",
    "        'priority': ['yes', 'yes', 'no', 'yes', 'no', 'no', 'no', 'yes', 'no', 'no']}\n",
    "\n",
    "labels = ['a', 'b', 'c', 'd', 'e', 'f', 'g', 'h', 'i', 'j']\n",
    "\n",
    "#df = (hoàn thành code của dòng này)"
   ]
  },
  {
   "cell_type": "markdown",
   "metadata": {},
   "source": [
    "**5.** Hiển thị tóm tắt thông tin cơ bản về DataFrame này và dữ liệu của nó (*gợi ý: chỉ có một phương thức có thể được gọi trên DataFrame*)."
   ]
  },
  {
   "cell_type": "code",
   "execution_count": 15,
   "metadata": {},
   "outputs": [
    {
     "name": "stdout",
     "output_type": "stream",
     "text": [
      "<class 'pandas.core.frame.DataFrame'>\n",
      "RangeIndex: 10 entries, 0 to 9\n",
      "Data columns (total 4 columns):\n",
      " #   Column    Non-Null Count  Dtype  \n",
      "---  ------    --------------  -----  \n",
      " 0   animal    10 non-null     object \n",
      " 1   age       8 non-null      float64\n",
      " 2   visits    10 non-null     int64  \n",
      " 3   priority  10 non-null     object \n",
      "dtypes: float64(1), int64(1), object(2)\n",
      "memory usage: 452.0+ bytes\n"
     ]
    }
   ],
   "source": [
    "df=pd.DataFrame(data)\n",
    "df.info()"
   ]
  },
  {
   "cell_type": "markdown",
   "metadata": {},
   "source": [
    "**6.** Trả về 3 hàng đầu tiên của DataFrame `df`."
   ]
  },
  {
   "cell_type": "code",
   "execution_count": 17,
   "metadata": {},
   "outputs": [
    {
     "name": "stdout",
     "output_type": "stream",
     "text": [
      "  animal  age  visits priority\n",
      "0    cat  2.5       1      yes\n",
      "1    cat  3.0       3      yes\n",
      "2  snake  0.5       2       no\n"
     ]
    }
   ],
   "source": [
    "print(df.head(3))"
   ]
  },
  {
   "cell_type": "markdown",
   "metadata": {},
   "source": [
    "**7.** Chỉ chọn các cột 'động vật' và 'tuổi' từ DataFrame `df`."
   ]
  },
  {
   "cell_type": "code",
   "execution_count": 23,
   "metadata": {},
   "outputs": [
    {
     "name": "stdout",
     "output_type": "stream",
     "text": [
      "  animal  age\n",
      "0    cat  2.5\n",
      "1    cat  3.0\n",
      "2  snake  0.5\n",
      "3    dog  NaN\n",
      "4    dog  5.0\n",
      "5    cat  2.0\n",
      "6  snake  4.5\n",
      "7    cat  NaN\n",
      "8    dog  7.0\n",
      "9    dog  3.0\n"
     ]
    }
   ],
   "source": [
    "kq = df[['animal', 'age']]\n",
    "print(kq)"
   ]
  },
  {
   "cell_type": "markdown",
   "metadata": {},
   "source": [
    "**8.** Chọn dữ liệu ở hàng `[3, 4, 8]` *và* ở cột `['animal', 'age']`."
   ]
  },
  {
   "cell_type": "code",
   "execution_count": 29,
   "metadata": {},
   "outputs": [
    {
     "name": "stdout",
     "output_type": "stream",
     "text": [
      "  animal  age\n",
      "3    dog  NaN\n",
      "4    dog  5.0\n",
      "8    dog  7.0\n"
     ]
    }
   ],
   "source": [
    "kq = df.loc[[3,4,8], ['animal', 'age']]\n",
    "print(kq)"
   ]
  },
  {
   "cell_type": "markdown",
   "metadata": {},
   "source": [
    "**9.** Chỉ chọn những hàng có số lượt visits lớn hơn 3."
   ]
  },
  {
   "cell_type": "code",
   "execution_count": 31,
   "metadata": {},
   "outputs": [
    {
     "name": "stdout",
     "output_type": "stream",
     "text": [
      "Empty DataFrame\n",
      "Columns: [animal, age, visits, priority]\n",
      "Index: []\n"
     ]
    }
   ],
   "source": [
    "kq = df[df['visits'] > 3]\n",
    "print(kq)"
   ]
  },
  {
   "cell_type": "markdown",
   "metadata": {},
   "source": [
    "**10.** Chọn những hang có age bị thiếu dữ liệu, i.e. `NaN`."
   ]
  },
  {
   "cell_type": "code",
   "execution_count": 33,
   "metadata": {},
   "outputs": [
    {
     "name": "stdout",
     "output_type": "stream",
     "text": [
      "  animal  age  visits priority\n",
      "3    dog  NaN       3      yes\n",
      "7    cat  NaN       1      yes\n"
     ]
    }
   ],
   "source": [
    "kq = df[df['age'].isna()]\n",
    "print(kq)"
   ]
  },
  {
   "cell_type": "markdown",
   "metadata": {},
   "source": [
    "**11.** Chọn những hàng có animal là cat *và*  age nhỏ hơn 3."
   ]
  },
  {
   "cell_type": "code",
   "execution_count": 35,
   "metadata": {},
   "outputs": [
    {
     "name": "stdout",
     "output_type": "stream",
     "text": [
      "  animal  age  visits priority\n",
      "0    cat  2.5       1      yes\n",
      "5    cat  2.0       3       no\n"
     ]
    }
   ],
   "source": [
    "kq = df[(df['animal'] == 'cat') & (df['age'] < 3)]\n",
    "print(kq)"
   ]
  },
  {
   "cell_type": "markdown",
   "metadata": {},
   "source": [
    "**12.** Chọn những hàng có age nằm giữa 2 và 4 (bao gồm)."
   ]
  },
  {
   "cell_type": "code",
   "execution_count": 37,
   "metadata": {},
   "outputs": [
    {
     "name": "stdout",
     "output_type": "stream",
     "text": [
      "  animal  age  visits priority\n",
      "0    cat  2.5       1      yes\n",
      "1    cat  3.0       3      yes\n",
      "5    cat  2.0       3       no\n",
      "9    dog  3.0       1       no\n"
     ]
    }
   ],
   "source": [
    "kq = df[(df['age'] >= 2) & (df['age'] <= 4)]\n",
    "print(kq)"
   ]
  },
  {
   "cell_type": "markdown",
   "metadata": {},
   "source": [
    "**13.** Thay đổi age ở hàng 'f' thành 1.5."
   ]
  },
  {
   "cell_type": "code",
   "execution_count": 9,
   "metadata": {},
   "outputs": [
    {
     "name": "stdout",
     "output_type": "stream",
     "text": [
      "  animal  age  visits priority\n",
      "a    cat  2.5       1      yes\n",
      "b    cat  3.0       3      yes\n",
      "c  snake  0.5       2       no\n",
      "d    dog  NaN       3      yes\n",
      "e    dog  5.0       2       no\n",
      "f    cat  1.5       3       no\n",
      "g  snake  4.5       1       no\n",
      "h    cat  NaN       1      yes\n",
      "i    dog  7.0       2       no\n",
      "j    dog  3.0       1       no\n"
     ]
    }
   ],
   "source": [
    "\n",
    "df.loc['f', 'age'] = 1.5\n",
    "print(df)"
   ]
  },
  {
   "cell_type": "markdown",
   "metadata": {},
   "source": [
    "**14.** Tính tổng tất cả số lần visits trong `df`."
   ]
  },
  {
   "cell_type": "code",
   "execution_count": 41,
   "metadata": {},
   "outputs": [
    {
     "name": "stdout",
     "output_type": "stream",
     "text": [
      "19.0\n"
     ]
    }
   ],
   "source": [
    "tong = df['visits'].sum()\n",
    "print(tong)"
   ]
  },
  {
   "cell_type": "markdown",
   "metadata": {},
   "source": [
    "**15.** Tính độ tuổi trung bình của mỗi loài động vật khác nhau trong `df`."
   ]
  },
  {
   "cell_type": "code",
   "execution_count": 43,
   "metadata": {},
   "outputs": [
    {
     "name": "stdout",
     "output_type": "stream",
     "text": [
      "animal\n",
      "cat      2.5\n",
      "dog      5.0\n",
      "snake    2.5\n",
      "Name: age, dtype: float64\n"
     ]
    }
   ],
   "source": [
    "tuoi_TB = df.groupby('animal')['age'].mean()\n",
    "print(tuoi_TB)"
   ]
  },
  {
   "cell_type": "markdown",
   "metadata": {},
   "source": [
    "**16.** Thêm một hàng mới 'k' vào `df` với giá trị bạn chọn cho mỗi cột. Sau đó xóa hàng đó để trả về DataFrame gốc."
   ]
  },
  {
   "cell_type": "code",
   "execution_count": 45,
   "metadata": {},
   "outputs": [
    {
     "name": "stdout",
     "output_type": "stream",
     "text": [
      "  animal  age  visits priority\n",
      "0    cat  2.5     1.0      yes\n",
      "1    cat  3.0     3.0      yes\n",
      "2  snake  0.5     2.0       no\n",
      "3    dog  NaN     3.0      yes\n",
      "4    dog  5.0     2.0       no\n",
      "5    cat  2.0     3.0       no\n",
      "6  snake  4.5     1.0       no\n",
      "7    cat  NaN     1.0      yes\n",
      "8    dog  7.0     2.0       no\n",
      "9    dog  3.0     1.0       no\n",
      "f    NaN  1.5     NaN      NaN\n",
      "k    cat  3.5     2.0      yes\n"
     ]
    }
   ],
   "source": [
    "df.loc['k'] = ['cat', 3.5, 2, 'yes']\n",
    "print(df)"
   ]
  },
  {
   "cell_type": "markdown",
   "metadata": {},
   "source": [
    "**17.** Đếm số lượng của từng loại động vật trong `df`."
   ]
  },
  {
   "cell_type": "code",
   "execution_count": 47,
   "metadata": {},
   "outputs": [
    {
     "name": "stdout",
     "output_type": "stream",
     "text": [
      "animal\n",
      "cat      5\n",
      "dog      4\n",
      "snake    2\n",
      "Name: count, dtype: int64\n"
     ]
    }
   ],
   "source": [
    "dem = df['animal'].value_counts()\n",
    "print(dem)"
   ]
  },
  {
   "cell_type": "markdown",
   "metadata": {},
   "source": [
    "**18.** Sắp xếp `df` trước tiên theo các giá trị trong 'age' theo thứ tự *giảm dần (decending)*, sau đó theo giá trị trong cột 'visits' theo thứ tự *tăng dần* (do đó, hàng `i` phải là đầu tiên và hàng `d` phải là cuối cùng)."
   ]
  },
  {
   "cell_type": "code",
   "execution_count": 49,
   "metadata": {},
   "outputs": [
    {
     "name": "stdout",
     "output_type": "stream",
     "text": [
      "  animal  age  visits priority\n",
      "8    dog  7.0     2.0       no\n",
      "4    dog  5.0     2.0       no\n",
      "6  snake  4.5     1.0       no\n",
      "k    cat  3.5     2.0      yes\n",
      "9    dog  3.0     1.0       no\n",
      "1    cat  3.0     3.0      yes\n",
      "0    cat  2.5     1.0      yes\n",
      "5    cat  2.0     3.0       no\n",
      "f    NaN  1.5     NaN      NaN\n",
      "2  snake  0.5     2.0       no\n",
      "7    cat  NaN     1.0      yes\n",
      "3    dog  NaN     3.0      yes\n"
     ]
    }
   ],
   "source": [
    "df_sapxep = df.sort_values(by=['age', 'visits'], ascending=[False, True])\n",
    "print(df_sapxep)"
   ]
  },
  {
   "cell_type": "markdown",
   "metadata": {},
   "source": [
    "**19.** Cột 'priority' chứa các giá trị 'yes' và 'no'. Thay thế cột này bằng một cột giá trị boolean: 'yes' phải là `True` và 'no' phải là `False`."
   ]
  },
  {
   "cell_type": "code",
   "execution_count": 51,
   "metadata": {},
   "outputs": [
    {
     "name": "stdout",
     "output_type": "stream",
     "text": [
      "  animal  age  visits priority\n",
      "0    cat  2.5     1.0     True\n",
      "1    cat  3.0     3.0     True\n",
      "2  snake  0.5     2.0    False\n",
      "3    dog  NaN     3.0     True\n",
      "4    dog  5.0     2.0    False\n",
      "5    cat  2.0     3.0    False\n",
      "6  snake  4.5     1.0    False\n",
      "7    cat  NaN     1.0     True\n",
      "8    dog  7.0     2.0    False\n",
      "9    dog  3.0     1.0    False\n",
      "f    NaN  1.5     NaN      NaN\n",
      "k    cat  3.5     2.0     True\n"
     ]
    }
   ],
   "source": [
    "df['priority'] = df['priority'].replace({'yes': True, 'no': False})\n",
    "print(df)"
   ]
  },
  {
   "cell_type": "markdown",
   "metadata": {},
   "source": [
    "**20.** Trong cột 'animal', hãy đổi mục 'snake' thành 'python'."
   ]
  },
  {
   "cell_type": "code",
   "execution_count": 53,
   "metadata": {},
   "outputs": [
    {
     "name": "stdout",
     "output_type": "stream",
     "text": [
      "   animal  age  visits priority\n",
      "0     cat  2.5     1.0     True\n",
      "1     cat  3.0     3.0     True\n",
      "2  python  0.5     2.0    False\n",
      "3     dog  NaN     3.0     True\n",
      "4     dog  5.0     2.0    False\n",
      "5     cat  2.0     3.0    False\n",
      "6  python  4.5     1.0    False\n",
      "7     cat  NaN     1.0     True\n",
      "8     dog  7.0     2.0    False\n",
      "9     dog  3.0     1.0    False\n",
      "f     NaN  1.5     NaN      NaN\n",
      "k     cat  3.5     2.0     True\n"
     ]
    }
   ],
   "source": [
    "df['animal'] = df['animal'].replace('snake', 'python')\n",
    "print(df)"
   ]
  },
  {
   "cell_type": "markdown",
   "metadata": {},
   "source": [
    "**21.** Đối với mỗi loại động vật và mỗi số lần thăm khám, hãy tìm độ tuổi trung bình. Nói cách khác, mỗi hàng là một con vật, mỗi cột là một số lần thăm khám và các giá trị là độ tuổi trung bình (*gợi ý: sử dụng pivot table*)."
   ]
  },
  {
   "cell_type": "code",
   "execution_count": 55,
   "metadata": {},
   "outputs": [
    {
     "name": "stdout",
     "output_type": "stream",
     "text": [
      "visits  1.0  2.0  3.0\n",
      "animal               \n",
      "cat     2.5  3.5  2.5\n",
      "dog     3.0  6.0  NaN\n",
      "python  4.5  0.5  NaN\n"
     ]
    }
   ],
   "source": [
    "pivot_age = df.pivot_table(values='age', index='animal', columns='visits', aggfunc='mean')\n",
    "print(pivot_age)"
   ]
  },
  {
   "cell_type": "markdown",
   "metadata": {},
   "source": [
    "## DataFrames: vượt ra ngoài những điều cơ bản\n",
    "\n",
    "### Khó hơn một chút: bạn có thể cần kết hợp hai hoặc nhiều phương pháp để có được câu trả lời đúng\n",
    "\n",
    "Độ khó: *medium*\n",
    "\n",
    "Phần trước đã giới thiệu một số thao tác DataFrame cơ bản nhưng thiết yếu. Dưới đây là một số cách bạn có thể cần cắt dữ liệu của mình, nhưng không có phương pháp \"sẵn có\" nào."
   ]
  },
  {
   "cell_type": "markdown",
   "metadata": {},
   "source": [
    "**22.** Bạn có một DataFrame `df` với một cột 'A' gồm các số nguyên. Ví dụ:\n",
    "```python\n",
    "df = pd.DataFrame({'A': [1, 2, 2, 3, 4, 5, 5, 5, 6, 7, 7]})\n",
    "```\n",
    "\n",
    "Làm thế nào để lọc ra các hàng chứa cùng số nguyên với hàng ngay phía trên?\n",
    "\n",
    "Bạn sẽ thấy một cột chứa các giá trị sau:\n",
    "\n",
    "```python\n",
    "1, 2, 3, 4, 5, 6, 7\n",
    "```"
   ]
  },
  {
   "cell_type": "code",
   "execution_count": 57,
   "metadata": {},
   "outputs": [
    {
     "name": "stdout",
     "output_type": "stream",
     "text": [
      "   A\n",
      "0  1\n",
      "1  2\n",
      "3  3\n",
      "4  4\n",
      "5  5\n",
      "8  6\n",
      "9  7\n"
     ]
    }
   ],
   "source": [
    "df = pd.DataFrame({'A': [1, 2, 2, 3, 4, 5, 5, 5, 6, 7, 7]})\n",
    "df_loc = df[df['A'] != df['A'].shift()]\n",
    "print(df_loc)"
   ]
  },
  {
   "cell_type": "markdown",
   "metadata": {},
   "source": [
    "**23.** Cho một DataFrame các giá trị số, chẳng hạn\n",
    "```python\n",
    "df = pd.DataFrame(np.random.random(size=(5, 3))) # a 5x3 frame of float values\n",
    "```\n",
    "\n",
    "Làm thế nào để trừ giá trị trung bình của hàng khỏi mỗi phần tử trong hàng?"
   ]
  },
  {
   "cell_type": "code",
   "execution_count": 59,
   "metadata": {},
   "outputs": [
    {
     "name": "stdout",
     "output_type": "stream",
     "text": [
      "DataFrame ban đầu:\n",
      "          0         1         2\n",
      "0  0.821671  0.716306  0.664329\n",
      "1  0.410047  0.495189  0.508173\n",
      "2  0.924939  0.712149  0.543843\n",
      "3  0.474872  0.002116  0.255118\n",
      "4  0.282440  0.967983  0.390643\n",
      "DataFrame kết quả:\n",
      "          0         1         2\n",
      "0  0.087569 -0.017796 -0.069773\n",
      "1 -0.061089  0.024053  0.037036\n",
      "2  0.197962 -0.014828 -0.183134\n",
      "3  0.230837 -0.241920  0.011083\n",
      "4 -0.264582  0.420961 -0.156379\n"
     ]
    }
   ],
   "source": [
    "import numpy as np\n",
    "\n",
    "df = pd.DataFrame(np.random.random(size=(5, 3)))  \n",
    "df_trungbinh = df.sub(df.mean(axis=1), axis=0)\n",
    "print(\"DataFrame ban đầu:\")\n",
    "print(df)\n",
    "print(\"DataFrame kết quả:\")\n",
    "print(df_trungbinh)"
   ]
  },
  {
   "cell_type": "markdown",
   "metadata": {},
   "source": [
    "**24.** Giả sử bạn có DataFrame với 10 cột số thực, ví dụ:\n",
    "\n",
    "```python\n",
    "df = pd.DataFrame(np.random.random(size=(5, 10)), columns=list('abcdefghij'))\n",
    "```\n",
    "Cột số nào có tổng nhỏ nhất? Trả về nhãn của cột đó."
   ]
  },
  {
   "cell_type": "code",
   "execution_count": 67,
   "metadata": {},
   "outputs": [
    {
     "name": "stdout",
     "output_type": "stream",
     "text": [
      "Cot co tong nho nhat la: e\n"
     ]
    }
   ],
   "source": [
    "# tao DataFrame\n",
    "df = pd.DataFrame(np.random.random(size=(5, 10)), columns=list('abcdefghij'))\n",
    "\n",
    "# tinh tong tung cot, tim nhan cot co tong nho nhat\n",
    "min_column = df.sum().idxmin()\n",
    "print(\"Cot co tong nho nhat la:\" ,min_column)"
   ]
  },
  {
   "cell_type": "markdown",
   "metadata": {},
   "source": [
    "**25.** Làm thế nào để đếm số lượng hàng duy nhất mà một DataFrame có (tức là bỏ qua tất cả các hàng trùng lặp)? Khi nhập, hãy sử dụng DataFrame gồm số không và số một với 10 hàng và 3 cột.\n",
    "\n",
    "```python\n",
    "df = pd.DataFrame(np.random.randint(0, 2, size=(10, 3)))\n",
    "```"
   ]
  },
  {
   "cell_type": "code",
   "execution_count": 63,
   "metadata": {},
   "outputs": [
    {
     "name": "stdout",
     "output_type": "stream",
     "text": [
      "so luong hang duy nhat la:  7\n"
     ]
    }
   ],
   "source": [
    "# tao DataFrame\n",
    "df = pd.DataFrame(np.random.randint(0, 2, size=(10, 3)))\n",
    "\n",
    "# Dem so luong hang duy nhat\n",
    "unique_rows_count = df.drop_duplicates().shape[0]\n",
    "\n",
    "print(\"so luong hang duy nhat la: \",unique_rows_count)"
   ]
  }
 ],
 "metadata": {
  "kernelspec": {
   "display_name": "Python 3 (ipykernel)",
   "language": "python",
   "name": "python3"
  },
  "language_info": {
   "codemirror_mode": {
    "name": "ipython",
    "version": 3
   },
   "file_extension": ".py",
   "mimetype": "text/x-python",
   "name": "python",
   "nbconvert_exporter": "python",
   "pygments_lexer": "ipython3",
   "version": "3.12.4"
  }
 },
 "nbformat": 4,
 "nbformat_minor": 4
}
